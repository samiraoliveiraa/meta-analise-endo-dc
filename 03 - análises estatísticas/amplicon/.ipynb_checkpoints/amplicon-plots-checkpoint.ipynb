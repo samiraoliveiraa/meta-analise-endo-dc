{
 "cells": [
  {
   "cell_type": "markdown",
   "id": "6a5323a4-3c54-4c35-be46-99b1a5ce9e0c",
   "metadata": {},
   "source": [
    "# Análise de Resultados - Amplicon"
   ]
  },
  {
   "cell_type": "code",
   "execution_count": 2,
   "id": "e53e6a3a-f980-4dc2-afb2-2a8cf10a609f",
   "metadata": {},
   "outputs": [],
   "source": [
    "from funcoes_est import *"
   ]
  },
  {
   "cell_type": "markdown",
   "id": "b41781ee-263b-4680-9bcf-ba32c4909ad9",
   "metadata": {},
   "source": [
    "**ESTUDOS INDIVIDUAIS:**\n",
    "\n",
    "- **Vaginal:** ```endo_hernandes2020``` ```endo_jimenez2024``` ```endo_perrotta2020```\n",
    "\n",
    "- **Intestinal:** ```cfs_giloteaux2016``` ```endo_ata2019``` ```endo_wei2023``` ```fbm_garcia2019``` ```fbm_minerbi2019``` ```ibs_jacobs2023``` ```ibs_vork2021```\n",
    "\n",
    "**META-ANÁLISE:**\n",
    "\n",
    "- **Vaginal:**\n",
    "    - ```meta-analise-vag``` Comparação entre: endometriose, dor pélvica crônica (DPC), endometriose+DPC e controle. \n",
    "- **Intestinal:**\n",
    "    - ```meta-analise-int``` Comparação entre: endometriose, síndrome da fadiga crônica (SFC), fibromialgia, síndrome do intestino irritável (SII) e controle.\n",
    "    - ```meta-analise-int-agrupada```  Comparação entre: endometriose, dor crônica (geral) e controle."
   ]
  },
  {
   "cell_type": "markdown",
   "id": "aa99c32d-17db-405a-8ec7-74bfd8944112",
   "metadata": {},
   "source": [
    "**Funções:**\n",
    "\n",
    "- ```taxonomia(estudo, nivel='genero')```\n",
    "- ```distribuicao(estudo)```\n",
    "- ```alfa_diversidade(estudo, teste='t')```\n",
    "- ```beta_diversidade(estudo)```\n",
    "- ```vias_metabolicas(estudo)```"
   ]
  },
  {
   "cell_type": "code",
   "execution_count": 8,
   "id": "cc9fab48-d93a-4676-bcc8-93bb7b6a7c7d",
   "metadata": {},
   "outputs": [],
   "source": [
    "estudo = 'endo_hernandes2020'"
   ]
  }
 ],
 "metadata": {
  "kernelspec": {
   "display_name": "ilumpy",
   "language": "python",
   "name": "ilumpy"
  },
  "language_info": {
   "codemirror_mode": {
    "name": "ipython",
    "version": 3
   },
   "file_extension": ".py",
   "mimetype": "text/x-python",
   "name": "python",
   "nbconvert_exporter": "python",
   "pygments_lexer": "ipython3",
   "version": "3.10.8"
  }
 },
 "nbformat": 4,
 "nbformat_minor": 5
}
